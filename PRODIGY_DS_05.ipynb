{
  "nbformat": 4,
  "nbformat_minor": 0,
  "metadata": {
    "colab": {
      "provenance": [],
      "authorship_tag": "ABX9TyN13g/xUb6b8YS0LdcxQFN/",
      "include_colab_link": true
    },
    "kernelspec": {
      "name": "python3",
      "display_name": "Python 3"
    },
    "language_info": {
      "name": "python"
    }
  },
  "cells": [
    {
      "cell_type": "markdown",
      "metadata": {
        "id": "view-in-github",
        "colab_type": "text"
      },
      "source": [
        "<a href=\"https://colab.research.google.com/github/vasanth0066/PRODIGY_DS_05/blob/main/PRODIGY_DS_05.ipynb\" target=\"_parent\"><img src=\"https://colab.research.google.com/assets/colab-badge.svg\" alt=\"Open In Colab\"/></a>"
      ]
    },
    {
      "cell_type": "code",
      "execution_count": 3,
      "metadata": {
        "id": "XwRASkKk9lTY",
        "colab": {
          "base_uri": "https://localhost:8080/",
          "height": 422
        },
        "outputId": "8b959878-52f9-4229-c249-e3172336a80b"
      },
      "outputs": [
        {
          "output_type": "execute_result",
          "data": {
            "text/plain": [
              "<folium.folium.Map at 0x7c436e68b5b0>"
            ],
            "text/html": [
              "<div style=\"width:100%;\"><div style=\"position:relative;width:100%;height:0;padding-bottom:60%;\"><span style=\"color:#565656\">Make this Notebook Trusted to load map: File -> Trust Notebook</span><iframe srcdoc=\"&lt;!DOCTYPE html&gt;\n",
              "&lt;html&gt;\n",
              "&lt;head&gt;\n",
              "    \n",
              "    &lt;meta http-equiv=&quot;content-type&quot; content=&quot;text/html; charset=UTF-8&quot; /&gt;\n",
              "    \n",
              "        &lt;script&gt;\n",
              "            L_NO_TOUCH = false;\n",
              "            L_DISABLE_3D = false;\n",
              "        &lt;/script&gt;\n",
              "    \n",
              "    &lt;style&gt;html, body {width: 100%;height: 100%;margin: 0;padding: 0;}&lt;/style&gt;\n",
              "    &lt;style&gt;#map {position:absolute;top:0;bottom:0;right:0;left:0;}&lt;/style&gt;\n",
              "    &lt;script src=&quot;https://cdn.jsdelivr.net/npm/leaflet@1.9.3/dist/leaflet.js&quot;&gt;&lt;/script&gt;\n",
              "    &lt;script src=&quot;https://code.jquery.com/jquery-1.12.4.min.js&quot;&gt;&lt;/script&gt;\n",
              "    &lt;script src=&quot;https://cdn.jsdelivr.net/npm/bootstrap@5.2.2/dist/js/bootstrap.bundle.min.js&quot;&gt;&lt;/script&gt;\n",
              "    &lt;script src=&quot;https://cdnjs.cloudflare.com/ajax/libs/Leaflet.awesome-markers/2.0.2/leaflet.awesome-markers.js&quot;&gt;&lt;/script&gt;\n",
              "    &lt;link rel=&quot;stylesheet&quot; href=&quot;https://cdn.jsdelivr.net/npm/leaflet@1.9.3/dist/leaflet.css&quot;/&gt;\n",
              "    &lt;link rel=&quot;stylesheet&quot; href=&quot;https://cdn.jsdelivr.net/npm/bootstrap@5.2.2/dist/css/bootstrap.min.css&quot;/&gt;\n",
              "    &lt;link rel=&quot;stylesheet&quot; href=&quot;https://netdna.bootstrapcdn.com/bootstrap/3.0.0/css/bootstrap.min.css&quot;/&gt;\n",
              "    &lt;link rel=&quot;stylesheet&quot; href=&quot;https://cdn.jsdelivr.net/npm/@fortawesome/fontawesome-free@6.2.0/css/all.min.css&quot;/&gt;\n",
              "    &lt;link rel=&quot;stylesheet&quot; href=&quot;https://cdnjs.cloudflare.com/ajax/libs/Leaflet.awesome-markers/2.0.2/leaflet.awesome-markers.css&quot;/&gt;\n",
              "    &lt;link rel=&quot;stylesheet&quot; href=&quot;https://cdn.jsdelivr.net/gh/python-visualization/folium/folium/templates/leaflet.awesome.rotate.min.css&quot;/&gt;\n",
              "    \n",
              "            &lt;meta name=&quot;viewport&quot; content=&quot;width=device-width,\n",
              "                initial-scale=1.0, maximum-scale=1.0, user-scalable=no&quot; /&gt;\n",
              "            &lt;style&gt;\n",
              "                #map_656008714771a6b9742a8c54f597c8b0 {\n",
              "                    position: relative;\n",
              "                    width: 100.0%;\n",
              "                    height: 100.0%;\n",
              "                    left: 0.0%;\n",
              "                    top: 0.0%;\n",
              "                }\n",
              "                .leaflet-container { font-size: 1rem; }\n",
              "            &lt;/style&gt;\n",
              "        \n",
              "    &lt;script src=&quot;https://cdn.jsdelivr.net/gh/python-visualization/folium@main/folium/templates/leaflet_heat.min.js&quot;&gt;&lt;/script&gt;\n",
              "&lt;/head&gt;\n",
              "&lt;body&gt;\n",
              "    \n",
              "    \n",
              "            &lt;div class=&quot;folium-map&quot; id=&quot;map_656008714771a6b9742a8c54f597c8b0&quot; &gt;&lt;/div&gt;\n",
              "        \n",
              "&lt;/body&gt;\n",
              "&lt;script&gt;\n",
              "    \n",
              "    \n",
              "            var map_656008714771a6b9742a8c54f597c8b0 = L.map(\n",
              "                &quot;map_656008714771a6b9742a8c54f597c8b0&quot;,\n",
              "                {\n",
              "                    center: [20.5937, 78.9629],\n",
              "                    crs: L.CRS.EPSG3857,\n",
              "                    zoom: 5,\n",
              "                    zoomControl: true,\n",
              "                    preferCanvas: false,\n",
              "                }\n",
              "            );\n",
              "\n",
              "            \n",
              "\n",
              "        \n",
              "    \n",
              "            var tile_layer_1da48fa28058029214155aa2cb748f26 = L.tileLayer(\n",
              "                &quot;https://{s}.tile.openstreetmap.org/{z}/{x}/{y}.png&quot;,\n",
              "                {&quot;attribution&quot;: &quot;Data by \\u0026copy; \\u003ca target=\\&quot;_blank\\&quot; href=\\&quot;http://openstreetmap.org\\&quot;\\u003eOpenStreetMap\\u003c/a\\u003e, under \\u003ca target=\\&quot;_blank\\&quot; href=\\&quot;http://www.openstreetmap.org/copyright\\&quot;\\u003eODbL\\u003c/a\\u003e.&quot;, &quot;detectRetina&quot;: false, &quot;maxNativeZoom&quot;: 18, &quot;maxZoom&quot;: 18, &quot;minZoom&quot;: 0, &quot;noWrap&quot;: false, &quot;opacity&quot;: 1, &quot;subdomains&quot;: &quot;abc&quot;, &quot;tms&quot;: false}\n",
              "            ).addTo(map_656008714771a6b9742a8c54f597c8b0);\n",
              "        \n",
              "    \n",
              "            var heat_map_fbacf10f92df0b3ebe5353dd9b5579db = L.heatLayer(\n",
              "                [[26.373945044264374, 83.19468683100482], [10.647938126724474, 90.11813607757297], [16.985850677981542, 72.25121765923012], [9.89548245887686, 75.44287366534905], [30.81537899726787, 91.46803521480767], [16.206528061698382, 83.76837173586911], [15.987832807805038, 95.22639638471958], [18.358437729479775, 96.40219589975813], [22.89838193923069, 68.84673590791185], [19.12034148063346, 72.52453398840302], [18.241335769568867, 93.49514661548325], [28.785152626420548, 91.17945147524539], [13.811276619803266, 86.92575141334385], [23.938399682693454, 80.87665404835882], [28.73756422639501, 89.61578282915546], [24.13257115755757, 96.58722366745577], [31.7979673964971, 82.15330032703933], [20.4825495153356, 71.27619554356546], [21.239056496684835, 71.57731525614976], [24.737879773551416, 91.94453264186524], [31.256663198128006, 71.62495077014175], [12.280028712825187, 79.96940885555836], [16.0444531641853, 71.49277016835401], [12.894839072614236, 85.01750895741597], [14.041572074710995, 79.79101345119213], [11.185544614053724, 91.71684499070076], [14.686839216671007, 92.31629888095986], [17.99203356879775, 81.45707015741209], [18.315345356746747, 92.8316048593996], [27.118312722548747, 96.37464141480386], [30.791138205873544, 84.665903771821], [16.946282360440197, 81.74261957654085], [17.83140848350424, 70.87344148311166], [13.752792342618935, 69.12496220386642], [8.58952591749411, 80.94747428119507], [21.644298814969645, 85.3793820048152], [11.061711719656389, 69.1636077243714], [22.75433537991894, 71.68554654965614], [24.32680436701445, 97.53798058285652], [8.301252154644738, 75.501309899551], [8.582240054461655, 85.33614761915193], [23.644048553984817, 69.68584421624695], [25.61887103170589, 71.16084749804334], [18.970295982878476, 69.15778148616185], [9.209690181554603, 87.61326285952651], [23.132847379368805, 71.0805120152177], [29.665625924056606, 68.20580590268318], [25.78377838678423, 78.54034787072867], [15.655829424731571, 88.12990739821853], [26.06795259395582, 77.84662422151807], [15.175066134199131, 85.50191978089151], [22.091660556893235, 69.10247495889926], [23.296037203128463, 85.68906009153142], [24.186513348683356, 79.38219854382503], [30.34317255264484, 75.43339977278993], [19.533610258925993, 81.66303430496757], [12.47958681830831, 74.13931530861592], [29.098205490490137, 81.73980538963052], [22.363344818512818, 81.19177171261667], [28.501086386122793, 84.35908484919042], [10.648493101984899, 90.66332929323681], [22.32236418979397, 82.91182123159618], [11.180868604370751, 86.14001367113785], [11.8716625069566, 83.55154666607086], [27.841481681849267, 84.92820376270852], [13.916980347232094, 75.69264271406561], [9.926375182039319, 93.81193098841482], [24.709194725714354, 77.1259496969235], [14.944342466453381, 84.23292604268939], [17.74567240055952, 71.57701783061543], [26.701860891816544, 68.97445947098211], [24.598088531488553, 89.65597720390102], [27.06731119023587, 74.60841490144546], [30.29747427586898, 90.95096158697044], [10.79469729401761, 89.06661613377666], [12.196683600265414, 76.3048435704959], [11.054145415804921, 68.22460310301915], [15.628050081959755, 85.15916666534605], [21.799875130027846, 85.76795982763636], [16.134243106913228, 85.66019805099327], [23.049498540194996, 83.18994930564169], [27.252969530294365, 93.82689747646063], [22.560414596549933, 72.7346091858519], [29.700770171749454, 90.1196971373809], [22.89545095954799, 81.6140932149832], [14.088986782994684, 96.36680170344087], [17.853769439308163, 71.24689158861015], [8.885794296214257, 90.02721161035618], [27.87102437186765, 82.0948631123829], [26.224819070200574, 68.79331183479545], [16.507958497046022, 73.94417945737796], [19.39406322088859, 96.58386410743678], [14.655967761188185, 73.11063719321488], [15.461885262726025, 92.92835151096283], [28.045015904300065, 77.42648517086522], [10.836999688378647, 77.71170681995508], [28.940221481201352, 73.88810723465225], [17.468678250662613, 72.66527515181569], [12.459330373943075, 92.74379313901416], [12.752182929164226, 96.58624456262878]],\n",
              "                {&quot;blur&quot;: 15, &quot;maxZoom&quot;: 18, &quot;minOpacity&quot;: 0.5, &quot;radius&quot;: 25}\n",
              "            ).addTo(map_656008714771a6b9742a8c54f597c8b0);\n",
              "        \n",
              "&lt;/script&gt;\n",
              "&lt;/html&gt;\" style=\"position:absolute;width:100%;height:100%;left:0;top:0;border:none !important;\" allowfullscreen webkitallowfullscreen mozallowfullscreen></iframe></div></div>"
            ]
          },
          "metadata": {},
          "execution_count": 3
        }
      ],
      "source": [
        "import pandas as pd\n",
        "import random\n",
        "import folium\n",
        "from folium.plugins import HeatMap\n",
        "\n",
        "# Sample data for demonstration\n",
        "data = {\n",
        "    'Accident_ID': list(range(1, 101)),\n",
        "    'Latitude': [random.uniform(8, 32) for _ in range(100)],\n",
        "    'Longitude': [random.uniform(68, 98) for _ in range(100)],\n",
        "    'Accident_Description': ['Accident {}'.format(i) for i in range(1, 101)],\n",
        "    'Road_Conditions': [random.choice(['Dry', 'Wet', 'Snow', 'Ice']) for _ in range(100)],\n",
        "    'Weather_Conditions': [random.choice(['Clear', 'Cloudy', 'Rainy', 'Foggy']) for _ in range(100)],\n",
        "    'Time': [random.randint(0, 23) for _ in range(100)]\n",
        "}\n",
        "\n",
        "# Create DataFrame\n",
        "df = pd.DataFrame(data)\n",
        "\n",
        "# Create a map centered around a specific location in India\n",
        "m = folium.Map(location=[20.5937, 78.9629], zoom_start=5)\n",
        "\n",
        "# Add heatmap of accident hotspots\n",
        "heat_data = [[row['Latitude'], row['Longitude']] for index, row in df.iterrows()]\n",
        "HeatMap(heat_data).add_to(m)\n",
        "\n",
        "# Save the map as an HTML file\n",
        "m.save('accident_heatmap.html')\n",
        "\n",
        "# Display the map\n",
        "m"
      ]
    }
  ]
}